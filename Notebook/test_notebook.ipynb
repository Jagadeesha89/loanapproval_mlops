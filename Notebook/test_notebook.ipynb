{
 "cells": [
  {
   "cell_type": "code",
   "execution_count": 1,
   "id": "823bbe3a",
   "metadata": {},
   "outputs": [],
   "source": [
    "import pandas as pd\n",
    "import pymongo\n",
    "from dotenv import load_dotenv\n",
    "load_dotenv()\n",
    "import os\n",
    "import yaml"
   ]
  },
  {
   "cell_type": "code",
   "execution_count": 2,
   "id": "07ea4213",
   "metadata": {},
   "outputs": [],
   "source": [
    "database=\"JAGA\"\n",
    "collection=\"LoanapprovalData\"\n",
    "MONGODB_URL =os.getenv(\"MONGO_DB_URL\")\n"
   ]
  },
  {
   "cell_type": "code",
   "execution_count": 3,
   "id": "90d034b4",
   "metadata": {},
   "outputs": [],
   "source": [
    "mongo_client=pymongo.MongoClient(MONGODB_URL)\n",
    "records=mongo_client[database][collection]"
   ]
  },
  {
   "cell_type": "code",
   "execution_count": 4,
   "id": "3d4a7d19",
   "metadata": {},
   "outputs": [],
   "source": [
    "data=pd.DataFrame(list(records.find()))"
   ]
  },
  {
   "cell_type": "code",
   "execution_count": 13,
   "id": "143159c5",
   "metadata": {},
   "outputs": [],
   "source": [
    "col_type={col:str(dtype) for col,dtype in data.dtypes.items()}"
   ]
  },
  {
   "cell_type": "code",
   "execution_count": 15,
   "id": "3db76b51",
   "metadata": {},
   "outputs": [],
   "source": [
    "with open(\"column.yaml\",\"w\") as file:\n",
    "    yaml.dump(col_type,file,default_flow_style=False)"
   ]
  },
  {
   "cell_type": "code",
   "execution_count": 17,
   "id": "d77dc2c2",
   "metadata": {},
   "outputs": [],
   "source": [
    "with open(\"column.yaml\",\"r\") as file:\n",
    "    yaml_data=yaml.safe_load(file)"
   ]
  },
  {
   "cell_type": "code",
   "execution_count": 28,
   "id": "34223215",
   "metadata": {},
   "outputs": [],
   "source": [
    "with open (\"../data_schema\\schema.yaml\",'r') as f:\n",
    "        yaml_data=yaml.safe_load(f)\n",
    "        "
   ]
  },
  {
   "cell_type": "code",
   "execution_count": null,
   "id": "1d18f367",
   "metadata": {},
   "outputs": [
    {
     "data": {
      "text/plain": [
       "14"
      ]
     },
     "execution_count": 31,
     "metadata": {},
     "output_type": "execute_result"
    }
   ],
   "source": [
    "len([list(item.keys())[0] for item in yaml_data[\"columns\"]])"
   ]
  },
  {
   "cell_type": "code",
   "execution_count": 30,
   "id": "56f26cb1",
   "metadata": {},
   "outputs": [
    {
     "data": {
      "text/plain": [
       "['cb_person_cred_hist_length',\n",
       " 'credit_score',\n",
       " 'loan_amnt',\n",
       " 'loan_int_rate',\n",
       " 'loan_intent',\n",
       " 'loan_percent_income',\n",
       " 'loan_status',\n",
       " 'person_age',\n",
       " 'person_education',\n",
       " 'person_emp_exp',\n",
       " 'person_gender',\n",
       " 'person_home_ownership',\n",
       " 'person_income',\n",
       " 'previous_loan_defaults_on_file']"
      ]
     },
     "execution_count": 30,
     "metadata": {},
     "output_type": "execute_result"
    }
   ],
   "source": [
    "yaml_columns"
   ]
  },
  {
   "cell_type": "code",
   "execution_count": null,
   "id": "464be4a8",
   "metadata": {},
   "outputs": [],
   "source": []
  }
 ],
 "metadata": {
  "kernelspec": {
   "display_name": "Python 3",
   "language": "python",
   "name": "python3"
  },
  "language_info": {
   "codemirror_mode": {
    "name": "ipython",
    "version": 3
   },
   "file_extension": ".py",
   "mimetype": "text/x-python",
   "name": "python",
   "nbconvert_exporter": "python",
   "pygments_lexer": "ipython3",
   "version": "3.10.0"
  }
 },
 "nbformat": 4,
 "nbformat_minor": 5
}
